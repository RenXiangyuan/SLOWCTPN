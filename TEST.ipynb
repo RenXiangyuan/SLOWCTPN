{
 "cells": [
  {
   "cell_type": "code",
   "execution_count": 1,
   "metadata": {},
   "outputs": [
    {
     "data": {
      "text/plain": [
       "'/home/xiangyuan/Workspaces/TABLE_DETECTION_CTPN'"
      ]
     },
     "execution_count": 1,
     "metadata": {},
     "output_type": "execute_result"
    }
   ],
   "source": [
    "pwd"
   ]
  },
  {
   "cell_type": "code",
   "execution_count": 2,
   "metadata": {},
   "outputs": [
    {
     "name": "stdout",
     "output_type": "stream",
     "text": [
      "loading data ...\n",
      "load finished.\n"
     ]
    }
   ],
   "source": [
    "import model_detect_meta as meta\n",
    "import model_detect_data as model_data\n",
    "\n",
    "from model_detect_wrap import ModelDetect\n",
    "\n",
    "\n",
    "import os\n",
    "#\n",
    "os.environ['CUDA_VISIBLE_DEVICES'] = '-1' #使用 CPU\n",
    "#os.environ['CUDA_VISIBLE_DEVICES'] = '0,1' # 使用 GPU 0，1\n",
    "#\n",
    "\n",
    "\n",
    "#\n",
    "model = ModelDetect()\n",
    "#\n",
    "\n",
    "\n",
    "\n",
    "# data\n",
    "print('loading data ...')\n",
    "data_train = model_data.get_files_with_ext(meta.dir_images_train, 'png')[:100]\n",
    "data_valid = model_data.get_files_with_ext(meta.dir_images_valid, 'png')[:100]\n",
    "print('load finished.')"
   ]
  },
  {
   "cell_type": "code",
   "execution_count": 3,
   "metadata": {},
   "outputs": [],
   "source": [
    "if not os.path.exists(meta.model_detect_dir): os.mkdir(meta.model_detect_dir)"
   ]
  },
  {
   "cell_type": "code",
   "execution_count": 4,
   "metadata": {},
   "outputs": [
    {
     "name": "stdout",
     "output_type": "stream",
     "text": [
      "WARNING:tensorflow:From /usr/local/lib/python3.5/dist-packages/tensorflow/python/ops/rnn.py:417: calling reverse_sequence (from tensorflow.python.ops.array_ops) with seq_dim is deprecated and will be removed in a future version.\n",
      "Instructions for updating:\n",
      "seq_dim is deprecated, use seq_axis instead\n",
      "WARNING:tensorflow:From /usr/local/lib/python3.5/dist-packages/tensorflow/python/util/deprecation.py:432: calling reverse_sequence (from tensorflow.python.ops.array_ops) with batch_dim is deprecated and will be removed in a future version.\n",
      "Instructions for updating:\n",
      "batch_dim is deprecated, use batch_axis instead\n",
      "graph defined for training\n"
     ]
    }
   ],
   "source": [
    "model.create_graph_all(training = True)"
   ]
  },
  {
   "cell_type": "code",
   "execution_count": 5,
   "metadata": {},
   "outputs": [],
   "source": [
    "import os\n",
    "import time\n",
    "import random\n",
    "\n",
    "from PIL import Image\n",
    "import numpy as np\n",
    "\n",
    "import tensorflow as tf\n",
    "from tensorflow.python.framework import graph_util\n",
    "\n",
    "import model_detect_def as model_def\n",
    "import model_detect_meta as meta\n",
    "\n",
    "import model_detect_data as model_data"
   ]
  },
  {
   "cell_type": "code",
   "execution_count": 6,
   "metadata": {},
   "outputs": [],
   "source": [
    "def get_target_json_file(img_file):\n",
    "    #\n",
    "    pre_dir = os.path.abspath(os.path.dirname(img_file)+os.path.sep+\"..\")\n",
    "    json_dir = os.path.join(pre_dir, 'labels')\n",
    "    #\n",
    "    filename = os.path.basename(img_file)\n",
    "    arr_split = os.path.splitext(filename)\n",
    "    filename = arr_split[0] + '.json'\n",
    "    #\n",
    "    json_file = os.path.join(json_dir, filename)\n",
    "    #\n",
    "    return json_file"
   ]
  },
  {
   "cell_type": "code",
   "execution_count": 7,
   "metadata": {},
   "outputs": [
    {
     "name": "stdout",
     "output_type": "stream",
     "text": [
      "INFO:tensorflow:Restoring parameters from ./model_detect/model_detect-0\n",
      "begin to train ...\n"
     ]
    }
   ],
   "source": [
    "with model.graph.as_default():\n",
    "    saver = tf.train.Saver()\n",
    "    with tf.Session(config = model.sess_config) as sess:\n",
    "        tf.global_variables_initializer().run()\n",
    "        sess.run(tf.assign(model.learning_rate, tf.constant(model.learning_rate_base, dtype=tf.float32)))\n",
    "        # restore with saved data\n",
    "        ckpt = tf.train.get_checkpoint_state(meta.model_detect_dir)\n",
    "        #\n",
    "        if ckpt and ckpt.model_checkpoint_path:\n",
    "            saver.restore(sess, ckpt.model_checkpoint_path)                \n",
    "        #\n",
    "        print('begin to train ...')\n",
    "        step = sess.run(model.global_step)\n",
    "#         train_step_half = int(model.train_steps * 0.5)\n",
    "#         train_step_quar = int(model.train_steps * 0.75)\n",
    "        \n",
    "#         while step < self.train_steps:\n",
    "        for _ in range(1):\n",
    "            img_file = random.choice(data_train)  # list image files\n",
    "            if not os.path.exists(img_file):\n",
    "                print('image_file: %s NOT exist' % img_file)\n",
    "                continue\n",
    "#             txt_file = model_data.get_target_txt_file(img_file)\n",
    "            json_file = get_target_json_file(img_file)\n",
    "            if not os.path.exists(json_file):\n",
    "                print('label_file: %s NOT exist' % json_file)\n",
    "                continue\n",
    "            img_data, feat_size, target_cls, target_ver, target_hor = \\\n",
    "                    model_data.get_image_and_targets(img_file, json_file, meta.anchor_heights)"
   ]
  },
  {
   "cell_type": "code",
   "execution_count": 20,
   "metadata": {},
   "outputs": [
    {
     "data": {
      "text/plain": [
       "((842, 596, 3), [68, 75], (68, 75, 8), (68, 75, 8), (68, 75, 8))"
      ]
     },
     "execution_count": 20,
     "metadata": {},
     "output_type": "execute_result"
    }
   ],
   "source": [
    "img_data[0].shape, feat_size, target_cls.shape, target_ver.shape, target_hor.shape"
   ]
  },
  {
   "cell_type": "code",
   "execution_count": 10,
   "metadata": {},
   "outputs": [],
   "source": [
    "import model_detect_data"
   ]
  },
  {
   "cell_type": "code",
   "execution_count": 11,
   "metadata": {},
   "outputs": [],
   "source": [
    "txt_list = model_detect_data.get_list_contents_use_json(json_file)"
   ]
  },
  {
   "cell_type": "code",
   "execution_count": 12,
   "metadata": {},
   "outputs": [],
   "source": [
    "txt_list"
   ]
  },
  {
   "cell_type": "code",
   "execution_count": 13,
   "metadata": {},
   "outputs": [
    {
     "name": "stdout",
     "output_type": "stream",
     "text": [
      "<Workspaces/gopath/data/labels/681_26.json\" [noeol] 18L, 168C\u001b[>c\u001b[1;1H\u001b[35m\u001b[46m[\u001b[mgopath/data/labels/681_26.json\"\n",
      " \u001b[35m{\u001b[m\n",
      "  \"\u001b[33mcols\u001b[m\": \u001b[31m9\u001b[m,\n",
      "  \"\u001b[33mrows\u001b[m\": \u001b[31m3\u001b[m,\n",
      "  \"\u001b[33mx0\u001b[m\": \u001b[31m68\u001b[m,\n",
      "  \"\u001b[33mx1\u001b[m\": \u001b[31m533\u001b[m,\n",
      "  \"\u001b[33my0\u001b[m\": \u001b[31m193\u001b[m,\n",
      "  \"\u001b[33my1\u001b[m\": \u001b[31m317\u001b[m\n",
      " \u001b[35m}\u001b[m,\n",
      " \u001b[35m{\u001b[m\n",
      "  \"\u001b[33mcols\u001b[m\": \u001b[31m2\u001b[m,\n",
      "  \"\u001b[33mrows\u001b[m\": \u001b[31m6\u001b[m,\n",
      "  \"\u001b[33mx0\u001b[m\": \u001b[31m68\u001b[m,\n",
      "  \"\u001b[33mx1\u001b[m\": \u001b[31m533\u001b[m,\n",
      "  \"\u001b[33my0\u001b[m\": \u001b[31m673\u001b[m,\n",
      "  \"\u001b[33my1\u001b[m\": \u001b[31m760\u001b[m\n",
      " \u001b[35m}\u001b[m\n",
      "\u001b[35m\u001b[46m]\u001b[m\n",
      "\u001b[1m\u001b[34m~                                                                               \u001b[20;1H~                                                                               \u001b[21;1H~                                                                               \u001b[22;1H~                                                                               \u001b[23;1H~                                                                               \u001b[m\u001b[24;63H1,1\u001b[10C全部\u001b[1;1H\u001b[24;1H输入  :quit<Enter>  退出 Vim\u001b[24;29H\u001b[K\u0007\u001b[24;63H1,1\u001b[10C全部\u001b[1;1H\u001b[35m[\u001b[18;1H]\u001b[m\u001b[24;63H2\u001b[2;1H"
     ]
    }
   ],
   "source": [
    "!vim /home/xiangyuan/Workspaces/gopath/data/labels/681_26.json"
   ]
  },
  {
   "cell_type": "code",
   "execution_count": 14,
   "metadata": {},
   "outputs": [
    {
     "data": {
      "text/plain": [
       "True"
      ]
     },
     "execution_count": 14,
     "metadata": {},
     "output_type": "execute_result"
    }
   ],
   "source": [
    "os.path.exists(json_file)"
   ]
  },
  {
   "cell_type": "code",
   "execution_count": 17,
   "metadata": {},
   "outputs": [],
   "source": [
    "import json\n",
    "bboxes = []\n",
    "with open(json_file, 'r') as fp:\n",
    "    data = json.load(fp)\n",
    "    for boxes in data:\n",
    "        resized_box = [round(boxes['x0'] ),\n",
    "                       round(boxes['y0'] ),\n",
    "                       round(boxes['x1'] ),\n",
    "                       round(boxes['y1'] )]\n",
    "        bboxes.append(resized_box)"
   ]
  },
  {
   "cell_type": "code",
   "execution_count": 18,
   "metadata": {},
   "outputs": [
    {
     "data": {
      "text/plain": [
       "[[68, 193, 533, 317], [68, 673, 533, 760]]"
      ]
     },
     "execution_count": 18,
     "metadata": {},
     "output_type": "execute_result"
    }
   ],
   "source": [
    "bboxes"
   ]
  },
  {
   "cell_type": "code",
   "execution_count": 8,
   "metadata": {
    "scrolled": false
   },
   "outputs": [
    {
     "data": {
      "text/plain": [
       "'/home/xiangyuan/Workspaces/gopath/data/labels/681_26.json'"
      ]
     },
     "execution_count": 8,
     "metadata": {},
     "output_type": "execute_result"
    }
   ],
   "source": [
    "json_file"
   ]
  },
  {
   "cell_type": "code",
   "execution_count": 29,
   "metadata": {},
   "outputs": [],
   "source": [
    "import json"
   ]
  },
  {
   "cell_type": "code",
   "execution_count": 31,
   "metadata": {},
   "outputs": [],
   "source": [
    "bboxes = []\n",
    "\n",
    "with open(json_file, 'r') as fp:\n",
    "    data = json.load(fp)\n",
    "    for boxes in data:\n",
    "        resized_box = [round(charline_obj['x0'] * image_resize_ratio),\n",
    "                       round(charline_obj['y0'] * image_resize_ratio),\n",
    "                       round(charline_obj['x1'] * image_resize_ratio),\n",
    "                       round(charline_obj['y1'] * image_resize_ratio)]\n",
    "        bboxes.append(resized_box)"
   ]
  },
  {
   "cell_type": "code",
   "execution_count": 32,
   "metadata": {},
   "outputs": [
    {
     "data": {
      "text/plain": [
       "[{'cols': 9, 'rows': 3, 'x0': 69, 'x1': 534, 'y0': 107, 'y1': 173},\n",
       " {'cols': 5, 'rows': 4, 'x0': 107, 'x1': 516, 'y0': 214, 'y1': 295},\n",
       " {'cols': 5, 'rows': 4, 'x0': 107, 'x1': 516, 'y0': 355, 'y1': 437},\n",
       " {'cols': 3, 'rows': 6, 'x0': 104, 'x1': 508, 'y0': 556, 'y1': 719}]"
      ]
     },
     "execution_count": 32,
     "metadata": {},
     "output_type": "execute_result"
    }
   ],
   "source": [
    "data"
   ]
  },
  {
   "cell_type": "code",
   "execution_count": null,
   "metadata": {},
   "outputs": [],
   "source": [
    "#\n",
    "def get_list_contents(content_file):\n",
    "    #\n",
    "    contents = []\n",
    "    #\n",
    "    if not os.path.exists(content_file): return contents\n",
    "    #\n",
    "    with open(content_file, 'r') as fp:\n",
    "        lines = fp.readlines()\n",
    "    #\n",
    "    for line in lines:\n",
    "        arr_str = line.split('|')\n",
    "        item = list(map(lambda x: int(x), arr_str[0].split('-')))\n",
    "        #\n",
    "        contents.append([item, arr_str[1]])\n",
    "        #\n",
    "    return contents"
   ]
  }
 ],
 "metadata": {
  "kernelspec": {
   "display_name": "Python 3",
   "language": "python",
   "name": "python3"
  },
  "language_info": {
   "codemirror_mode": {
    "name": "ipython",
    "version": 3
   },
   "file_extension": ".py",
   "mimetype": "text/x-python",
   "name": "python",
   "nbconvert_exporter": "python",
   "pygments_lexer": "ipython3",
   "version": "3.5.2"
  }
 },
 "nbformat": 4,
 "nbformat_minor": 1
}
